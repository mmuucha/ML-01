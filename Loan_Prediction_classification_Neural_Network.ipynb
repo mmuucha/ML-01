{
  "nbformat": 4,
  "nbformat_minor": 0,
  "metadata": {
    "colab": {
      "provenance": [],
      "authorship_tag": "ABX9TyOrwThKdO1uWWNlxUtQbX6D",
      "include_colab_link": true
    },
    "kernelspec": {
      "name": "python3",
      "display_name": "Python 3"
    },
    "language_info": {
      "name": "python"
    }
  },
  "cells": [
    {
      "cell_type": "markdown",
      "metadata": {
        "id": "view-in-github",
        "colab_type": "text"
      },
      "source": [
        "<a href=\"https://colab.research.google.com/github/mmuucha/ML-01/blob/main/Loan_Prediction_classification_Neural_Network.ipynb\" target=\"_parent\"><img src=\"https://colab.research.google.com/assets/colab-badge.svg\" alt=\"Open In Colab\"/></a>"
      ]
    },
    {
      "cell_type": "code",
      "execution_count": 40,
      "metadata": {
        "id": "Kjic4ngmDABP"
      },
      "outputs": [],
      "source": [
        "import pandas as pd\n",
        "from sklearn.model_selection import train_test_split\n",
        "from sklearn.preprocessing import StandardScaler, OneHotEncoder\n",
        "from sklearn.compose import ColumnTransformer\n",
        "from sklearn.pipeline import Pipeline\n",
        "import numpy as np\n",
        "import matplotlib.pyplot as plt\n"
      ]
    },
    {
      "cell_type": "code",
      "source": [
        "import tensorflow as tf\n",
        "print(tf.__version__)"
      ],
      "metadata": {
        "colab": {
          "base_uri": "https://localhost:8080/"
        },
        "id": "0sxP6wsRFzmF",
        "outputId": "5f12608e-e710-4cb9-bd3f-cc71a03f10f7"
      },
      "execution_count": 6,
      "outputs": [
        {
          "output_type": "stream",
          "name": "stdout",
          "text": [
            "2.17.0\n"
          ]
        }
      ]
    },
    {
      "cell_type": "code",
      "source": [
        "# load csv file\n",
        "data = pd.read_csv('revised_loan_default_dataset.csv')"
      ],
      "metadata": {
        "id": "sfPv4d81F8CQ"
      },
      "execution_count": 7,
      "outputs": []
    },
    {
      "cell_type": "code",
      "source": [
        "# Check for null data\n",
        "nums = data.columns[data.dtypes != 'object']\n",
        "vars = data.columns[data.dtypes == 'object']\n",
        "data[nums].isnull().sum()"
      ],
      "metadata": {
        "colab": {
          "base_uri": "https://localhost:8080/",
          "height": 272
        },
        "id": "-OALmlwiGE7P",
        "outputId": "2d0bf78f-1e44-4bdc-f0ff-e4e47c8840b3"
      },
      "execution_count": 8,
      "outputs": [
        {
          "output_type": "execute_result",
          "data": {
            "text/plain": [
              "Income          49944\n",
              "LoanAmount      49948\n",
              "CreditScore     50022\n",
              "Age             49850\n",
              "LoanDuration    50097\n",
              "LoanDefault         0\n",
              "dtype: int64"
            ],
            "text/html": [
              "<div>\n",
              "<style scoped>\n",
              "    .dataframe tbody tr th:only-of-type {\n",
              "        vertical-align: middle;\n",
              "    }\n",
              "\n",
              "    .dataframe tbody tr th {\n",
              "        vertical-align: top;\n",
              "    }\n",
              "\n",
              "    .dataframe thead th {\n",
              "        text-align: right;\n",
              "    }\n",
              "</style>\n",
              "<table border=\"1\" class=\"dataframe\">\n",
              "  <thead>\n",
              "    <tr style=\"text-align: right;\">\n",
              "      <th></th>\n",
              "      <th>0</th>\n",
              "    </tr>\n",
              "  </thead>\n",
              "  <tbody>\n",
              "    <tr>\n",
              "      <th>Income</th>\n",
              "      <td>49944</td>\n",
              "    </tr>\n",
              "    <tr>\n",
              "      <th>LoanAmount</th>\n",
              "      <td>49948</td>\n",
              "    </tr>\n",
              "    <tr>\n",
              "      <th>CreditScore</th>\n",
              "      <td>50022</td>\n",
              "    </tr>\n",
              "    <tr>\n",
              "      <th>Age</th>\n",
              "      <td>49850</td>\n",
              "    </tr>\n",
              "    <tr>\n",
              "      <th>LoanDuration</th>\n",
              "      <td>50097</td>\n",
              "    </tr>\n",
              "    <tr>\n",
              "      <th>LoanDefault</th>\n",
              "      <td>0</td>\n",
              "    </tr>\n",
              "  </tbody>\n",
              "</table>\n",
              "</div><br><label><b>dtype:</b> int64</label>"
            ]
          },
          "metadata": {},
          "execution_count": 8
        }
      ]
    },
    {
      "cell_type": "code",
      "source": [
        "# handle numeric columns\n",
        "numeric_data = data.select_dtypes(include=['number'])\n",
        "median_values = numeric_data.median()\n",
        "data.fillna(median_values, inplace=True)\n",
        "print(data.isnull().sum())\n"
      ],
      "metadata": {
        "colab": {
          "base_uri": "https://localhost:8080/"
        },
        "id": "zGzdNb9cHIW1",
        "outputId": "2e4fa30f-84df-48cf-a386-a880d7d80996"
      },
      "execution_count": 9,
      "outputs": [
        {
          "output_type": "stream",
          "name": "stdout",
          "text": [
            "Date                   0\n",
            "Income                 0\n",
            "LoanAmount             0\n",
            "CreditScore            0\n",
            "Age                    0\n",
            "LoanDuration           0\n",
            "EmploymentStatus    9952\n",
            "MaritalStatus       9879\n",
            "EducationLevel      9935\n",
            "LoanDefault            0\n",
            "dtype: int64\n"
          ]
        }
      ]
    },
    {
      "cell_type": "code",
      "source": [
        "# handle string columns\n",
        "for column in data.select_dtypes(include=['object']).columns:\n",
        "  mode_value = data[column].mode()[0] # most frequent value\n",
        "  data[column].fillna(mode_value, inplace=True)\n",
        "\n",
        "print(data.isnull().sum())\n"
      ],
      "metadata": {
        "colab": {
          "base_uri": "https://localhost:8080/"
        },
        "id": "qieIR-lOHlZn",
        "outputId": "7cc04fb2-c87a-4dec-f1e4-95cfff4b766d"
      },
      "execution_count": 10,
      "outputs": [
        {
          "output_type": "stream",
          "name": "stdout",
          "text": [
            "Date                0\n",
            "Income              0\n",
            "LoanAmount          0\n",
            "CreditScore         0\n",
            "Age                 0\n",
            "LoanDuration        0\n",
            "EmploymentStatus    0\n",
            "MaritalStatus       0\n",
            "EducationLevel      0\n",
            "LoanDefault         0\n",
            "dtype: int64\n"
          ]
        }
      ]
    },
    {
      "cell_type": "code",
      "source": [
        "# Preprocess data\n",
        "X = data.drop('LoanDefault', axis=1,errors='ignore')\n",
        "y = data['LoanDefault'] if 'LoanDefault' in data.columns else None\n",
        "\n",
        "if y is None:\n",
        "    raise ValueError(\"Target variable 'LoanDefault' is missing from the DataFrame\")"
      ],
      "metadata": {
        "id": "zbee-ovAJKgN"
      },
      "execution_count": 26,
      "outputs": []
    },
    {
      "cell_type": "code",
      "source": [
        "# Create a preprocessing pipeline\n",
        "numerical_features = ['Income', 'LoanAmount', 'CreditScore', 'Age', 'LoanDuration']\n",
        "categorical_features = ['Date', 'EmploymentStatus', 'MaritalStatus', 'EducationLevel']"
      ],
      "metadata": {
        "id": "eDEfqDa5JknG"
      },
      "execution_count": 13,
      "outputs": []
    },
    {
      "cell_type": "code",
      "source": [
        "preprocessor = ColumnTransformer(\n",
        "    transformers=[\n",
        "        ('num', StandardScaler(), numerical_features),\n",
        "        ('cat', OneHotEncoder(handle_unknown='ignore'), categorical_features)\n",
        "    ])"
      ],
      "metadata": {
        "id": "1eBfr6tJKELS"
      },
      "execution_count": 29,
      "outputs": []
    },
    {
      "cell_type": "code",
      "source": [
        "# splitting into data\n",
        "X_train, X_test, y_train, y_test = train_test_split(X, y, test_size=0.2, random_state=42)"
      ],
      "metadata": {
        "id": "BcSDImFzL5AL"
      },
      "execution_count": 54,
      "outputs": []
    },
    {
      "cell_type": "code",
      "source": [
        "# Fit the preprocessor on the training data and transform it\n",
        "X_train_processed = preprocessor.fit_transform(X_train)\n"
      ],
      "metadata": {
        "id": "_m-tqRjaBBFU"
      },
      "execution_count": 55,
      "outputs": []
    },
    {
      "cell_type": "code",
      "source": [
        "# model creation\n",
        "model_1 = tf.keras.Sequential([\n",
        "    tf.keras.layers.Dense(64, activation='relu', input_shape=(X_train_processed.shape[1],)),\n",
        "    tf.keras.layers.Dense(32, activation='relu'),\n",
        "    tf.keras.layers.Dense(1, activation='sigmoid')\n",
        "])\n",
        "\n",
        "model_1.compile(optimizer= tf.keras.optimizers.Adam(learning_rate=0.001),\n",
        "                loss='binary_crossentropy',\n",
        "                metrics=['accuracy'])\n",
        "\n",
        "model_1.fit(X_train_processed, y_train, epochs=1, batch_size=32, validation_split=0.2)"
      ],
      "metadata": {
        "colab": {
          "base_uri": "https://localhost:8080/"
        },
        "id": "8VxdZsJdOFZE",
        "outputId": "73f378bb-f769-4157-9936-24d7c602f25b"
      },
      "execution_count": 58,
      "outputs": [
        {
          "output_type": "stream",
          "name": "stderr",
          "text": [
            "/usr/local/lib/python3.10/dist-packages/keras/src/layers/core/dense.py:87: UserWarning: Do not pass an `input_shape`/`input_dim` argument to a layer. When using Sequential models, prefer using an `Input(shape)` object as the first layer in the model instead.\n",
            "  super().__init__(activity_regularizer=activity_regularizer, **kwargs)\n"
          ]
        },
        {
          "output_type": "stream",
          "name": "stdout",
          "text": [
            "\u001b[1m2000/2000\u001b[0m \u001b[32m━━━━━━━━━━━━━━━━━━━━\u001b[0m\u001b[37m\u001b[0m \u001b[1m102s\u001b[0m 50ms/step - accuracy: 0.8988 - loss: 0.3457 - val_accuracy: 0.8984 - val_loss: 0.3318\n"
          ]
        },
        {
          "output_type": "execute_result",
          "data": {
            "text/plain": [
              "<keras.src.callbacks.history.History at 0x7ec4e64114b0>"
            ]
          },
          "metadata": {},
          "execution_count": 58
        }
      ]
    },
    {
      "cell_type": "code",
      "source": [
        "# evaluation\n",
        "X_test_processed = preprocessor.transform(X_test)\n",
        "model_1.evaluate(X_test_processed, y_test)"
      ],
      "metadata": {
        "colab": {
          "base_uri": "https://localhost:8080/"
        },
        "id": "wR_f-eOBCF7f",
        "outputId": "63d6ade4-3090-4615-e7fe-643f71406411"
      },
      "execution_count": 59,
      "outputs": [
        {
          "output_type": "stream",
          "name": "stdout",
          "text": [
            "\u001b[1m625/625\u001b[0m \u001b[32m━━━━━━━━━━━━━━━━━━━━\u001b[0m\u001b[37m\u001b[0m \u001b[1m1s\u001b[0m 2ms/step - accuracy: 0.8982 - loss: 0.3320\n"
          ]
        },
        {
          "output_type": "execute_result",
          "data": {
            "text/plain": [
              "[0.3270006775856018, 0.9006999731063843]"
            ]
          },
          "metadata": {},
          "execution_count": 59
        }
      ]
    },
    {
      "cell_type": "code",
      "source": [
        "from sklearn.metrics import confusion_matrix\n",
        "import seaborn as sns\n",
        "\n",
        "# Predict on your training set or validation set\n",
        "y_pred = model_1.predict(X_train_processed)\n",
        "y_pred_classes = (y_pred > 0.5).astype(int)  # Binarize predictions\n",
        "\n",
        "# Create confusion matrix\n",
        "cm = confusion_matrix(y_train, y_pred_classes)\n",
        "\n",
        "# Visualize confusion matrix\n",
        "plt.figure(figsize=(8, 6))\n",
        "sns.heatmap(cm, annot=True, fmt='d', cmap='Blues', xticklabels=['No Default', 'Default'], yticklabels=['No Default', 'Default'])\n",
        "plt.ylabel('Actual')\n",
        "plt.xlabel('Predicted')\n",
        "plt.title('Confusion Matrix')\n",
        "plt.show()\n"
      ],
      "metadata": {
        "colab": {
          "base_uri": "https://localhost:8080/",
          "height": 582
        },
        "id": "n1oo0kK1IqMT",
        "outputId": "4fff1340-fd52-4188-852b-70aeb34146f5"
      },
      "execution_count": 60,
      "outputs": [
        {
          "output_type": "stream",
          "name": "stdout",
          "text": [
            "\u001b[1m2500/2500\u001b[0m \u001b[32m━━━━━━━━━━━━━━━━━━━━\u001b[0m\u001b[37m\u001b[0m \u001b[1m13s\u001b[0m 5ms/step\n"
          ]
        },
        {
          "output_type": "display_data",
          "data": {
            "text/plain": [
              "<Figure size 800x600 with 2 Axes>"
            ],
            "image/png": "[encoded data removed]"
          },
          "metadata": {}
        }
      ]
    },
    {
      "cell_type": "code",
      "source": [],
      "metadata": {
        "id": "XYSICADZQ2nt"
      },
      "execution_count": null,
      "outputs": []
    }
  ]
}